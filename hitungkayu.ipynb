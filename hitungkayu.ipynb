{
 "cells": [
  {
   "cell_type": "code",
   "execution_count": 3,
   "id": "ebf47fda-d293-4bf4-9f46-f1dac8a643c0",
   "metadata": {},
   "outputs": [
    {
     "name": "stdout",
     "output_type": "stream",
     "text": [
      " * Serving Flask app '__main__'\n",
      " * Debug mode: off\n"
     ]
    },
    {
     "name": "stderr",
     "output_type": "stream",
     "text": [
      "WARNING: This is a development server. Do not use it in a production deployment. Use a production WSGI server instead.\n",
      " * Running on all addresses (0.0.0.0)\n",
      " * Running on http://127.0.0.1:5000\n",
      " * Running on http://192.168.1.26:5000\n",
      "Press CTRL+C to quit\n",
      "192.168.1.26 - - [26/Aug/2024 15:36:39] \"GET / HTTP/1.1\" 404 -\n",
      "192.168.1.26 - - [26/Aug/2024 15:36:39] \"GET /favicon.ico HTTP/1.1\" 404 -\n",
      "127.0.0.1 - - [26/Aug/2024 15:36:49] \"GET / HTTP/1.1\" 404 -\n",
      "127.0.0.1 - - [26/Aug/2024 15:36:49] \"GET /favicon.ico HTTP/1.1\" 404 -\n",
      "127.0.0.1 - - [26/Aug/2024 15:36:58] \"GET / HTTP/1.1\" 404 -\n",
      "127.0.0.1 - - [26/Aug/2024 15:36:58] \"GET /favicon.ico HTTP/1.1\" 404 -\n"
     ]
    }
   ],
   "source": [
    "from flask import Flask, request, jsonify\n",
    "from ultralytics import YOLO\n",
    "import torch\n",
    "from PIL import Image\n",
    "import io\n",
    "\n",
    "# Inisialisasi aplikasi Flask\n",
    "app = Flask(__name__)\n",
    "\n",
    "# Load model YOLOv8 yang telah dilatih\n",
    "model = YOLO('yolov8n_custom_trained.pt')\n",
    "\n",
    "# Endpoint untuk prediksi\n",
    "@app.route('/predict', methods=['POST'])\n",
    "def predict():\n",
    "    if 'image' not in request.files:\n",
    "        return jsonify({'error': 'No image uploaded'}), 400\n",
    "\n",
    "    # Ambil file gambar dari request\n",
    "    file = request.files['image']\n",
    "    img_bytes = file.read()\n",
    "    img = Image.open(io.BytesIO(img_bytes))\n",
    "\n",
    "    # Lakukan prediksi menggunakan model\n",
    "    results = model(img)\n",
    "\n",
    "    # Ekstraksi hasil prediksi\n",
    "    predictions = []\n",
    "    for result in results:\n",
    "        for box in result.boxes:\n",
    "            predictions.append({\n",
    "                'class': box.cls.item(),\n",
    "                'confidence': box.conf.item(),\n",
    "                'box': box.xyxy.tolist()\n",
    "            })\n",
    "\n",
    "    # Kembalikan hasil prediksi sebagai JSON\n",
    "    return jsonify(predictions)\n",
    "\n",
    "# Jalankan aplikasi\n",
    "if __name__ == '__main__':\n",
    "    app.run(host='0.0.0.0', port=5000)\n"
   ]
  },
  {
   "cell_type": "code",
   "execution_count": 2,
   "id": "e7398430-0bda-4e72-a0c4-72f9b20b609d",
   "metadata": {},
   "outputs": [
    {
     "name": "stdout",
     "output_type": "stream",
     "text": [
      "Collecting flask\n",
      "  Downloading flask-3.0.3-py3-none-any.whl.metadata (3.2 kB)\n",
      "Collecting Werkzeug>=3.0.0 (from flask)\n",
      "  Downloading werkzeug-3.0.4-py3-none-any.whl.metadata (3.7 kB)\n",
      "Requirement already satisfied: Jinja2>=3.1.2 in c:\\users\\axioo pongo\\.conda\\envs\\myenv\\lib\\site-packages (from flask) (3.1.4)\n",
      "Collecting itsdangerous>=2.1.2 (from flask)\n",
      "  Downloading itsdangerous-2.2.0-py3-none-any.whl.metadata (1.9 kB)\n",
      "Collecting click>=8.1.3 (from flask)\n",
      "  Downloading click-8.1.7-py3-none-any.whl.metadata (3.0 kB)\n",
      "Collecting blinker>=1.6.2 (from flask)\n",
      "  Downloading blinker-1.8.2-py3-none-any.whl.metadata (1.6 kB)\n",
      "Requirement already satisfied: importlib-metadata>=3.6.0 in c:\\users\\axioo pongo\\.conda\\envs\\myenv\\lib\\site-packages (from flask) (7.0.1)\n",
      "Requirement already satisfied: colorama in c:\\users\\axioo pongo\\.conda\\envs\\myenv\\lib\\site-packages (from click>=8.1.3->flask) (0.4.6)\n",
      "Requirement already satisfied: zipp>=0.5 in c:\\users\\axioo pongo\\.conda\\envs\\myenv\\lib\\site-packages (from importlib-metadata>=3.6.0->flask) (3.17.0)\n",
      "Requirement already satisfied: MarkupSafe>=2.0 in c:\\users\\axioo pongo\\.conda\\envs\\myenv\\lib\\site-packages (from Jinja2>=3.1.2->flask) (2.1.3)\n",
      "Downloading flask-3.0.3-py3-none-any.whl (101 kB)\n",
      "Downloading blinker-1.8.2-py3-none-any.whl (9.5 kB)\n",
      "Downloading click-8.1.7-py3-none-any.whl (97 kB)\n",
      "Downloading itsdangerous-2.2.0-py3-none-any.whl (16 kB)\n",
      "Downloading werkzeug-3.0.4-py3-none-any.whl (227 kB)\n",
      "Installing collected packages: Werkzeug, itsdangerous, click, blinker, flask\n",
      "Successfully installed Werkzeug-3.0.4 blinker-1.8.2 click-8.1.7 flask-3.0.3 itsdangerous-2.2.0\n",
      "Note: you may need to restart the kernel to use updated packages.\n"
     ]
    }
   ],
   "source": [
    "pip install flask"
   ]
  },
  {
   "cell_type": "code",
   "execution_count": 4,
   "id": "382b0347-b8c7-4921-b47b-d6c39c0688e9",
   "metadata": {},
   "outputs": [
    {
     "name": "stdout",
     "output_type": "stream",
     "text": [
      " * Serving Flask app '__main__'\n",
      " * Debug mode: on\n"
     ]
    },
    {
     "name": "stderr",
     "output_type": "stream",
     "text": [
      "WARNING: This is a development server. Do not use it in a production deployment. Use a production WSGI server instead.\n",
      " * Running on http://127.0.0.1:5000\n",
      "Press CTRL+C to quit\n",
      " * Restarting with stat\n"
     ]
    },
    {
     "ename": "SystemExit",
     "evalue": "1",
     "output_type": "error",
     "traceback": [
      "An exception has occurred, use %tb to see the full traceback.\n",
      "\u001b[1;31mSystemExit\u001b[0m\u001b[1;31m:\u001b[0m 1\n"
     ]
    },
    {
     "name": "stderr",
     "output_type": "stream",
     "text": [
      "C:\\Users\\Axioo Pongo\\.conda\\envs\\myenv\\lib\\site-packages\\IPython\\core\\interactiveshell.py:3516: UserWarning: To exit: use 'exit', 'quit', or Ctrl-D.\n",
      "  warn(\"To exit: use 'exit', 'quit', or Ctrl-D.\", stacklevel=1)\n"
     ]
    }
   ],
   "source": [
    "from flask import Flask, request, render_template, redirect, url_for\n",
    "from ultralytics import YOLO\n",
    "from PIL import Image\n",
    "import io\n",
    "\n",
    "app = Flask(__name__)\n",
    "\n",
    "# Inisialisasi model YOLO\n",
    "model = YOLO('yolov8n_custom_trained.pt')  # Pastikan model ini sudah diunduh\n",
    "\n",
    "@app.route('/', methods=['GET', 'POST'])\n",
    "def upload_file():\n",
    "    if request.method == 'POST':\n",
    "        # Periksa apakah ada file yang diunggah\n",
    "        if 'file' not in request.files:\n",
    "            return redirect(request.url)\n",
    "        \n",
    "        file = request.files['file']\n",
    "        \n",
    "        # Jika tidak ada file yang dipilih\n",
    "        if file.filename == '':\n",
    "            return redirect(request.url)\n",
    "        \n",
    "        if file:\n",
    "            # Baca gambar dan lakukan prediksi\n",
    "            image = Image.open(file.stream)\n",
    "            results = model(image)\n",
    "\n",
    "            # Render hasil prediksi\n",
    "            return render_template('result.html', results=results)\n",
    "\n",
    "    return render_template('index.html')\n",
    "\n",
    "if __name__ == '__main__':\n",
    "    app.run(debug=True)\n"
   ]
  },
  {
   "cell_type": "code",
   "execution_count": 2,
   "id": "a44d2987-ad18-4d9f-ad48-2baa08329885",
   "metadata": {},
   "outputs": [
    {
     "name": "stdout",
     "output_type": "stream",
     "text": [
      "\n",
      "0: 448x640 106 woods, 50.7ms\n",
      "Speed: 6.0ms preprocess, 50.7ms inference, 144.5ms postprocess per image at shape (1, 3, 448, 640)\n"
     ]
    }
   ],
   "source": [
    "from ultralytics import YOLO\n",
    "import cv2\n",
    "\n",
    "# Load the pre-trained YOLO model\n",
    "model = YOLO('yolov8n_custom_trained.pt')  # Ganti dengan path ke model Anda\n",
    "\n",
    "# Read the input image\n",
    "image_path = 'kayulog.jpg'  # Ganti dengan path ke gambar Anda\n",
    "image = cv2.imread(image_path)\n",
    "\n",
    "# Perform prediction\n",
    "results = model(image)\n",
    "\n",
    "# Process and display the results\n",
    "for result in results:\n",
    "    # Extract boxes, confidences, and class IDs\n",
    "    boxes = result.boxes.xyxy.cpu().numpy()  # Get bounding boxes\n",
    "    confidences = result.boxes.conf.cpu().numpy()  # Get confidences\n",
    "    class_ids = result.boxes.cls.cpu().numpy()  # Get class IDs\n",
    "\n",
    "    for box, confidence, class_id in zip(boxes, confidences, class_ids):\n",
    "        # Draw bounding box and label on the image\n",
    "        x1, y1, x2, y2 = map(int, box)\n",
    "        label = f'{model.names[int(class_id)]}: {confidence:.2f}'\n",
    "        cv2.rectangle(image, (x1, y1), (x2, y2), (0, 255, 0), 2)\n",
    "        cv2.putText(image, label, (x1, y1 - 10), cv2.FONT_HERSHEY_SIMPLEX, 0.5, (0, 255, 0), 2)\n",
    "\n",
    "# Show the result\n",
    "cv2.imshow('Predictions', image)\n",
    "cv2.waitKey(0)\n",
    "cv2.destroyAllWindows()\n"
   ]
  },
  {
   "cell_type": "code",
   "execution_count": 6,
   "id": "c38bf07e-60fd-439b-b12e-f255f1e795ae",
   "metadata": {},
   "outputs": [
    {
     "name": "stdout",
     "output_type": "stream",
     "text": [
      "\n",
      "0: 640x512 (no detections), 64.4ms\n",
      "Speed: 5.0ms preprocess, 64.4ms inference, 0.0ms postprocess per image at shape (1, 3, 640, 512)\n"
     ]
    }
   ],
   "source": [
    "from ultralytics import YOLO\n",
    "import cv2\n",
    "\n",
    "# Load the pre-trained YOLO model\n",
    "model = YOLO('yolov8n_custom_trained.pt')  # Ganti dengan path ke model Anda\n",
    "\n",
    "# Read the input image\n",
    "image_path = 'kayuitung.jpg'  # Ganti dengan path ke gambar Anda\n",
    "image = cv2.imread(image_path)\n",
    "\n",
    "# Perform prediction\n",
    "results = model(image)\n",
    "\n",
    "# Process and display the results\n",
    "object_count = 0  # Counter for detected objects\n",
    "\n",
    "for result in results:\n",
    "    # Extract boxes, confidences, and class IDs\n",
    "    boxes = result.boxes.xyxy.cpu().numpy()  # Get bounding boxes\n",
    "\n",
    "    for box in boxes:\n",
    "        object_count += 1\n",
    "        x1, y1, _, _ = map(int, box)\n",
    "        # Draw the number on the image\n",
    "        cv2.putText(image, str(object_count), (x1, y1 - 10), cv2.FONT_HERSHEY_SIMPLEX, 0.5, (0, 255, 0), 2)\n",
    "\n",
    "# Write the total number of detected objects on the image\n",
    "total_text = f'Total : {object_count}'\n",
    "cv2.putText(image, total_text, (10, image.shape[0] - 10), cv2.FONT_HERSHEY_SIMPLEX, 0.7, (0, 255, 0), 2)\n",
    "\n",
    "# Show the result\n",
    "cv2.imshow('Predictions', image)\n",
    "cv2.waitKey(0)\n",
    "cv2.destroyAllWindows()\n"
   ]
  },
  {
   "cell_type": "code",
   "execution_count": 5,
   "id": "d44cbff5-d93f-46da-966d-42d83ee51f8c",
   "metadata": {},
   "outputs": [
    {
     "name": "stdout",
     "output_type": "stream",
     "text": [
      "\n",
      "0: 640x480 1 cup, 28.5ms\n",
      "Speed: 8.1ms preprocess, 28.5ms inference, 4.0ms postprocess per image at shape (1, 3, 640, 480)\n",
      "Panjang: 7.50 cm, Lebar: 10.76 cm\n"
     ]
    }
   ],
   "source": [
    "import cv2\n",
    "from ultralytics import YOLO\n",
    "import numpy as np\n",
    "\n",
    "# Load model YOLOv8\n",
    "model = YOLO('yolov8n.pt')  # Ganti dengan model yang sesuai\n",
    "\n",
    "# Kalibrasi: Lebar objek yang diketahui dalam cm dan dalam piksel\n",
    "known_width_cm = 7.5  # Lebar objek yang diketahui dalam cm (misal penggaris)\n",
    "known_width_pixels = 311  # Lebar objek dalam piksel (misalnya dari hasil sebelumnya)\n",
    "\n",
    "# Hitung skala konversi dari piksel ke cm\n",
    "pixel_to_cm_ratio = known_width_cm / known_width_pixels\n",
    "\n",
    "# Fungsi untuk mengukur panjang dan lebar objek dalam cm\n",
    "def measure_object(image_path):\n",
    "    # Baca gambar dari file\n",
    "    frame = cv2.imread(image_path)\n",
    "    \n",
    "    # Lakukan deteksi objek\n",
    "    results = model(frame)\n",
    "    for result in results:\n",
    "        for box in result.boxes:\n",
    "            x1, y1, x2, y2 = map(int, box.xyxy[0])  # Koordinat bounding box dalam integer\n",
    "            length_pixels = x2 - x1\n",
    "            width_pixels = y2 - y1\n",
    "\n",
    "            # Konversi ke cm menggunakan skala yang telah dihitung\n",
    "            length_cm = length_pixels * pixel_to_cm_ratio\n",
    "            width_cm = width_pixels * pixel_to_cm_ratio\n",
    "\n",
    "            # Gambar bounding box dan ukuran dalam cm pada gambar\n",
    "            cv2.rectangle(frame, (x1, y1), (x2, y2), (255, 0, 0), 2)\n",
    "            cv2.putText(frame, f'L: {length_cm:.2f} cm, W: {width_cm:.2f} cm', (x1, y1 - 10), \n",
    "                        cv2.FONT_HERSHEY_SIMPLEX, 0.5, (255, 0, 0), 2)\n",
    "            print(f\"Panjang: {length_cm:.2f} cm, Lebar: {width_cm:.2f} cm\")\n",
    "\n",
    "    # Simpan dan tampilkan hasil\n",
    "    output_image_path = 'output_image.jpg'\n",
    "    cv2.imwrite(output_image_path, frame)\n",
    "    cv2.imshow('Deteksi Objek dan Pengukuran', frame)\n",
    "    cv2.waitKey(0)\n",
    "    cv2.destroyAllWindows()\n",
    "\n",
    "# Gambar yang akan digunakan\n",
    "image_path = 'gelas_9_30.jpg'  # Ganti dengan path ke file gambar Anda\n",
    "measure_object(image_path)"
   ]
  },
  {
   "cell_type": "code",
   "execution_count": 4,
   "id": "5ae2c074-c059-4623-9ea4-b0c3b2d909ac",
   "metadata": {},
   "outputs": [
    {
     "name": "stdout",
     "output_type": "stream",
     "text": [
      "\n",
      "0: 640x480 1 cup, 98.8ms\n",
      "Speed: 18.5ms preprocess, 98.8ms inference, 6.3ms postprocess per image at shape (1, 3, 640, 480)\n",
      "Lebar objek: 311 piksel\n"
     ]
    }
   ],
   "source": [
    "import cv2\n",
    "from ultralytics import YOLO\n",
    "\n",
    "# Load model YOLOv8\n",
    "model = YOLO('yolov8n.pt')  # Ganti dengan model yang sesuai\n",
    "\n",
    "# Fungsi untuk menghitung lebar objek dalam piksel\n",
    "def calculate_object_width_in_pixels(image_path):\n",
    "    # Baca gambar dari file\n",
    "    frame = cv2.imread(image_path)\n",
    "    \n",
    "    # Lakukan deteksi objek\n",
    "    results = model(frame)\n",
    "    for result in results:\n",
    "        for box in result.boxes:\n",
    "            x1, y1, x2, y2 = map(int, box.xyxy[0])  # Koordinat bounding box dalam integer\n",
    "            width_pixels = x2 - x1  # Menghitung lebar dalam piksel\n",
    "\n",
    "            print(f\"Lebar objek: {width_pixels} piksel\")\n",
    "\n",
    "            # Gambar bounding box pada gambar\n",
    "            cv2.rectangle(frame, (x1, y1), (x2, y2), (255, 0, 0), 2)\n",
    "            cv2.putText(frame, f'W: {width_pixels} px', (x1, y1 - 10), \n",
    "                        cv2.FONT_HERSHEY_SIMPLEX, 0.5, (255, 0, 0), 2)\n",
    "\n",
    "    # Tampilkan gambar\n",
    "    cv2.imshow('Deteksi Objek', frame)\n",
    "    cv2.waitKey(0)\n",
    "    cv2.destroyAllWindows()\n",
    "\n",
    "# Gambar yang akan digunakan\n",
    "image_path = 'gelas_9_30.jpg'  # Ganti dengan path ke file gambar Anda\n",
    "calculate_object_width_in_pixels(image_path)\n"
   ]
  },
  {
   "cell_type": "code",
   "execution_count": null,
   "id": "14a207a7-4496-4aed-8904-eaec74a1b0a5",
   "metadata": {},
   "outputs": [],
   "source": []
  }
 ],
 "metadata": {
  "kernelspec": {
   "display_name": "Python 3 (ipykernel)",
   "language": "python",
   "name": "python3"
  },
  "language_info": {
   "codemirror_mode": {
    "name": "ipython",
    "version": 3
   },
   "file_extension": ".py",
   "mimetype": "text/x-python",
   "name": "python",
   "nbconvert_exporter": "python",
   "pygments_lexer": "ipython3",
   "version": "3.8.19"
  }
 },
 "nbformat": 4,
 "nbformat_minor": 5
}
